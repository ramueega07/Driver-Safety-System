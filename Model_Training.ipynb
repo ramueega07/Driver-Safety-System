{
 "cells": [
  {
   "cell_type": "code",
   "execution_count": 1,
   "id": "d92df0a1",
   "metadata": {},
   "outputs": [],
   "source": [
    "import tensorflow as tf\n",
    "from tensorflow.keras.applications import MobileNet\n",
    "from tensorflow.keras.models import Model\n",
    "from tensorflow.keras.optimizers import Adam\n",
    "from tensorflow.keras.layers import Dropout,Input,Flatten,Dense,MaxPooling2D\n",
    "from tensorflow.keras.preprocessing.image import ImageDataGenerator\n"
   ]
  },
  {
   "cell_type": "code",
   "execution_count": 2,
   "id": "a3994d99",
   "metadata": {},
   "outputs": [],
   "source": [
    "batchsize=8"
   ]
  },
  {
   "cell_type": "code",
   "execution_count": 3,
   "id": "e0fe74a7",
   "metadata": {},
   "outputs": [],
   "source": [
    "train_datagen=ImageDataGenerator(rescale=1./255,rotation_range=0.2,shear_range=0.2,zoom_range=0.2,width_shift_range=0.2,height_shift_range=0.2, validation_split=0.2)"
   ]
  },
  {
   "cell_type": "code",
   "execution_count": 4,
   "id": "c469fb70",
   "metadata": {},
   "outputs": [
    {
     "name": "stdout",
     "output_type": "stream",
     "text": [
      "Found 23058 images belonging to 2 classes.\n",
      "Found 5763 images belonging to 2 classes.\n"
     ]
    }
   ],
   "source": [
    "train_data= train_datagen.flow_from_directory(r\"C:\\Users\\golla\\drowsiness\\Prepared_Data\\train\",\n",
    "                          target_size=(80,80),batch_size=batchsize,class_mode=\"categorical\", subset=\"training\")\n",
    "validation_data= train_datagen.flow_from_directory(r\"C:\\Users\\golla\\drowsiness\\Prepared_Data\\train\",\n",
    "                          target_size=(80,80),batch_size=batchsize,class_mode=\"categorical\", subset=\"validation\")                                          "
   ]
  },
  {
   "cell_type": "code",
   "execution_count": 5,
   "id": "bb992fc3",
   "metadata": {},
   "outputs": [
    {
     "name": "stdout",
     "output_type": "stream",
     "text": [
      "Found 4573 images belonging to 2 classes.\n"
     ]
    }
   ],
   "source": [
    "test_datagen = ImageDataGenerator(rescale=1./255)\n",
    "test_data = test_datagen.flow_from_directory(r\"C:\\Users\\golla\\drowsiness\\Prepared_Data\\test\",\n",
    "                          target_size=(80,80),batch_size=batchsize,class_mode=\"categorical\")\n"
   ]
  },
  {
   "cell_type": "code",
   "execution_count": 6,
   "id": "c697a429",
   "metadata": {},
   "outputs": [
    {
     "name": "stdout",
     "output_type": "stream",
     "text": [
      "WARNING:tensorflow:`input_shape` is undefined or non-square, or `rows` is not in [128, 160, 192, 224]. Weights for input shape (224, 224) will be loaded as the default.\n"
     ]
    }
   ],
   "source": [
    "bmodel = MobileNet(include_top=False, weights=\"imagenet\",input_shape=(87,87,3))\n",
    "hmodel = bmodel.output\n",
    "hmodel = Flatten()(hmodel)\n",
    "hmodel = Dense(64, activation=\"relu\")(hmodel)\n",
    "hmodel = Dropout(0.5)(hmodel)\n",
    "hmodel = Dense(2, activation=\"sigmoid\")(hmodel)\n",
    "\n",
    "model = Model(inputs=bmodel.input,outputs=hmodel)\n",
    "for layer in bmodel.layers:\n",
    "    layer.trainable = False"
   ]
  },
  {
   "cell_type": "code",
   "execution_count": 7,
   "id": "afa906fe",
   "metadata": {},
   "outputs": [],
   "source": [
    "from tensorflow.keras.callbacks import ModelCheckpoint,EarlyStopping,ReduceLROnPlateau"
   ]
  },
  {
   "cell_type": "code",
   "execution_count": 8,
   "id": "de0860d2",
   "metadata": {},
   "outputs": [],
   "source": [
    "checkpoint = ModelCheckpoint(r\"C:\\Users\\golla\\drowsiness\\models\\model.h5\",monitor=\"val_loss\",save_best_only=True,verbose=3)\n",
    "\n",
    "earlystop = EarlyStopping(monitor = \"val_loss\",patience=7,verbose=3, restore_best_weights=True)\n",
    "learning_rate = ReduceLROnPlateau(moniter= \"val_loss\",patience=3,verbose= 3, )\n",
    "callbacks =[checkpoint,earlystop,learning_rate]"
   ]
  },
  {
   "cell_type": "code",
   "execution_count": 9,
   "id": "5f795c8b",
   "metadata": {},
   "outputs": [
    {
     "name": "stdout",
     "output_type": "stream",
     "text": [
      "Epoch 1/5\n",
      "2882/2882 [==============================] - ETA: 0s - loss: 0.2339 - accuracy: 0.9095\n",
      "Epoch 1: val_loss improved from inf to 0.44729, saving model to C:\\Users\\golla\\drowsiness\\models\\model.h5\n",
      "2882/2882 [==============================] - 271s 94ms/step - loss: 0.2339 - accuracy: 0.9095 - val_loss: 0.4473 - val_accuracy: 0.8594 - lr: 0.0010\n",
      "Epoch 2/5\n",
      "2882/2882 [==============================] - ETA: 0s - loss: 0.1831 - accuracy: 0.9303\n",
      "Epoch 2: val_loss improved from 0.44729 to 0.31410, saving model to C:\\Users\\golla\\drowsiness\\models\\model.h5\n",
      "2882/2882 [==============================] - 119s 41ms/step - loss: 0.1831 - accuracy: 0.9303 - val_loss: 0.3141 - val_accuracy: 0.8806 - lr: 0.0010\n",
      "Epoch 3/5\n",
      "2881/2882 [============================>.] - ETA: 0s - loss: 0.1720 - accuracy: 0.9324\n",
      "Epoch 3: val_loss did not improve from 0.31410\n",
      "2882/2882 [==============================] - 106s 37ms/step - loss: 0.1720 - accuracy: 0.9325 - val_loss: 0.7575 - val_accuracy: 0.8196 - lr: 0.0010\n",
      "Epoch 4/5\n",
      "2881/2882 [============================>.] - ETA: 0s - loss: 0.1652 - accuracy: 0.9365\n",
      "Epoch 4: val_loss did not improve from 0.31410\n",
      "2882/2882 [==============================] - 111s 38ms/step - loss: 0.1653 - accuracy: 0.9364 - val_loss: 0.4847 - val_accuracy: 0.8693 - lr: 0.0010\n",
      "Epoch 5/5\n",
      "2881/2882 [============================>.] - ETA: 0s - loss: 0.1619 - accuracy: 0.9389\n",
      "Epoch 5: val_loss did not improve from 0.31410\n",
      "\n",
      "Epoch 5: ReduceLROnPlateau reducing learning rate to 0.00010000000474974513.\n",
      "2882/2882 [==============================] - 103s 36ms/step - loss: 0.1619 - accuracy: 0.9389 - val_loss: 0.4360 - val_accuracy: 0.8908 - lr: 0.0010\n"
     ]
    },
    {
     "data": {
      "text/plain": [
       "<keras.callbacks.History at 0x1b7d82ddd90>"
      ]
     },
     "execution_count": 9,
     "metadata": {},
     "output_type": "execute_result"
    }
   ],
   "source": [
    "model.compile(optimizer='Adam', loss='categorical_crossentropy',metrics=['accuracy'])\n",
    "#model.compile(optimizer=tf.keras.optimizers.Adam(learning_rate=1e-3),\n",
    "              #loss=tf.keras.losses.BinaryCrossentropy(),\n",
    "             # metrics=[tf.keras.metrics.BinaryAccuracy(),\n",
    "                       #tf.keras.metrics.FalseNegatives()])\n",
    "#model.fit(train_data,batch_size=batchsize,steps_per_epoch=train_data.samples//batchsize,validation_data=validation_data,validation_steps=validation_data.samples//batchsize,callbacks=callbacks,epochs=10)\n",
    "#model.fit(train_data,epochs=1,verbose=1,shuffle=True,class_weight=None,sample_weight=None,initial_epoch=0,steps_per_epoch=train_data.samples//batchsize,validation_data=validation_data,validation_steps=validation_data.samples//batchsize,callbacks=None,validation_batch_size=None,validation_freq=1,max_queue_size=10,workers=1,use_multiprocessing=False)\n",
    "#model.fit(tf.expand_dims(train_data,axis=-1),batch_size=batchsize,epochs=10,verbose=1,validation_data=(test_data))\n",
    "\n",
    "model.fit(train_data,steps_per_epoch=train_data.samples//batchsize,\n",
    "                   validation_data=validation_data,\n",
    "                   validation_steps=validation_data.samples//batchsize,\n",
    "                   callbacks=callbacks,\n",
    "                    epochs=5)\n",
    "\n"
   ]
  },
  {
   "cell_type": "code",
   "execution_count": 10,
   "id": "64f02aa8",
   "metadata": {},
   "outputs": [],
   "source": [
    "# model Evaluation"
   ]
  },
  {
   "cell_type": "code",
   "execution_count": 11,
   "id": "0b4ad88e",
   "metadata": {},
   "outputs": [
    {
     "name": "stderr",
     "output_type": "stream",
     "text": [
      "C:\\Users\\golla\\AppData\\Local\\Temp/ipykernel_25084/2876905264.py:1: UserWarning: `Model.evaluate_generator` is deprecated and will be removed in a future version. Please use `Model.evaluate`, which supports generators.\n",
      "  acc_tr , loss_tr = model.evaluate_generator(train_data)\n"
     ]
    },
    {
     "name": "stdout",
     "output_type": "stream",
     "text": [
      "0.12622064352035522\n",
      "0.9513400793075562\n"
     ]
    }
   ],
   "source": [
    "acc_tr , loss_tr = model.evaluate_generator(train_data)\n",
    "print(acc_tr)\n",
    "print(loss_tr)"
   ]
  },
  {
   "cell_type": "code",
   "execution_count": 12,
   "id": "89b7807f",
   "metadata": {},
   "outputs": [
    {
     "name": "stderr",
     "output_type": "stream",
     "text": [
      "C:\\Users\\golla\\AppData\\Local\\Temp/ipykernel_25084/3811301195.py:1: UserWarning: `Model.evaluate_generator` is deprecated and will be removed in a future version. Please use `Model.evaluate`, which supports generators.\n",
      "  acc_vr , loss_vr = model.evaluate_generator(validation_data)\n"
     ]
    },
    {
     "name": "stdout",
     "output_type": "stream",
     "text": [
      "0.43460407853126526\n",
      "0.8877320885658264\n"
     ]
    }
   ],
   "source": [
    "acc_vr , loss_vr = model.evaluate_generator(validation_data)\n",
    "print(acc_vr)\n",
    "print(loss_vr)"
   ]
  },
  {
   "cell_type": "code",
   "execution_count": 13,
   "id": "e7d7754f",
   "metadata": {},
   "outputs": [
    {
     "name": "stderr",
     "output_type": "stream",
     "text": [
      "C:\\Users\\golla\\AppData\\Local\\Temp/ipykernel_25084/3089708754.py:1: UserWarning: `Model.evaluate_generator` is deprecated and will be removed in a future version. Please use `Model.evaluate`, which supports generators.\n",
      "  acc_test , loss_test = model.evaluate_generator(test_data)\n"
     ]
    },
    {
     "name": "stdout",
     "output_type": "stream",
     "text": [
      "0.12622064352035522\n",
      "0.9513400793075562\n"
     ]
    }
   ],
   "source": [
    "acc_test , loss_test = model.evaluate_generator(test_data)\n",
    "print(acc_tr)\n",
    "print(loss_tr)"
   ]
  },
  {
   "cell_type": "code",
   "execution_count": null,
   "id": "7816a981",
   "metadata": {},
   "outputs": [],
   "source": []
  },
  {
   "cell_type": "code",
   "execution_count": null,
   "id": "2ea9ee92",
   "metadata": {},
   "outputs": [],
   "source": []
  }
 ],
 "metadata": {
  "kernelspec": {
   "display_name": "Python 3 (ipykernel)",
   "language": "python",
   "name": "python3"
  },
  "language_info": {
   "codemirror_mode": {
    "name": "ipython",
    "version": 3
   },
   "file_extension": ".py",
   "mimetype": "text/x-python",
   "name": "python",
   "nbconvert_exporter": "python",
   "pygments_lexer": "ipython3",
   "version": "3.9.7"
  }
 },
 "nbformat": 4,
 "nbformat_minor": 5
}
